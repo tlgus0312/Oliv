{
 "cells": [
  {
   "cell_type": "code",
   "execution_count": null,
   "id": "15e78a28-2704-4fb5-8456-5e7d91c4cb36",
   "metadata": {},
   "outputs": [],
   "source": [
    "import time\n",
    "from selenium import webdriver\n",
    "from selenium.webdriver.common.by import By\n",
    "from selenium.common.exceptions import InvalidSessionIdException"
   ]
  },
  {
   "cell_type": "code",
   "execution_count": null,
   "id": "0227253a-f8e0-4828-bca6-d0beb65f9f2d",
   "metadata": {},
   "outputs": [],
   "source": [
    "# 1) 드라이버 설정 및 실행 (스크립트 시작 시 단 한 번만)\n",
    "options = webdriver.ChromeOptions()\n",
    "options.add_argument('--headless')      # 화면 없이 실행\n",
    "options.add_argument('--no-sandbox')\n",
    "driver = webdriver.Chrome(options=options)\n"
   ]
  },
  {
   "cell_type": "code",
   "execution_count": null,
   "id": "b0f42c77-defd-421d-9268-67e38386f836",
   "metadata": {},
   "outputs": [],
   "source": [
    "# 2) 리뷰 수집 함수 (driver는 외부에서 넘겨받음)\n",
    "def get_reviews(driver, product_url):\n",
    "    driver.get(product_url)\n",
    "    time.sleep(1)  # 필요에 따라 조정\n",
    "    items = driver.find_elements(By.CSS_SELECTOR, \"#gdasList li\")\n",
    "    return [item.text for item in items]"
   ]
  },
  {
   "cell_type": "code",
   "execution_count": null,
   "id": "df5b7e29-6328-40a9-8aef-ace4121c1911",
   "metadata": {},
   "outputs": [],
   "source": []
  },
  {
   "cell_type": "code",
   "execution_count": null,
   "id": "5fea6dc9-9529-46de-9697-efbc243a7b0d",
   "metadata": {},
   "outputs": [],
   "source": []
  },
  {
   "cell_type": "code",
   "execution_count": null,
   "id": "8ca523f2-242c-4d29-bfa8-2a02bf54029d",
   "metadata": {},
   "outputs": [],
   "source": []
  },
  {
   "cell_type": "code",
   "execution_count": null,
   "id": "7dea2748-41cf-417a-8fd0-e15c638e0586",
   "metadata": {},
   "outputs": [],
   "source": []
  },
  {
   "cell_type": "code",
   "execution_count": null,
   "id": "de746b64-5e9e-4959-9bf6-69d9d27f24c8",
   "metadata": {},
   "outputs": [],
   "source": []
  },
  {
   "cell_type": "code",
   "execution_count": null,
   "id": "c8339db4-6cfb-4bb0-b85d-9be22eb86e05",
   "metadata": {},
   "outputs": [],
   "source": []
  },
  {
   "cell_type": "code",
   "execution_count": null,
   "id": "385bc663-e21a-4cdb-8c26-49134400bf83",
   "metadata": {},
   "outputs": [],
   "source": []
  },
  {
   "cell_type": "code",
   "execution_count": null,
   "id": "a885759b-90c8-43cc-9174-fc0768990f17",
   "metadata": {},
   "outputs": [],
   "source": []
  },
  {
   "cell_type": "code",
   "execution_count": null,
   "id": "91ed9fa6-8390-42bc-a31f-44b6bea67ea6",
   "metadata": {},
   "outputs": [],
   "source": []
  }
 ],
 "metadata": {
  "kernelspec": {
   "display_name": "Python [conda env:base] *",
   "language": "python",
   "name": "conda-base-py"
  },
  "language_info": {
   "codemirror_mode": {
    "name": "ipython",
    "version": 3
   },
   "file_extension": ".py",
   "mimetype": "text/x-python",
   "name": "python",
   "nbconvert_exporter": "python",
   "pygments_lexer": "ipython3",
   "version": "3.12.7"
  }
 },
 "nbformat": 4,
 "nbformat_minor": 5
}
